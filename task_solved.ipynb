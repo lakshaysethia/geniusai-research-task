{
  "nbformat": 4,
  "nbformat_minor": 0,
  "metadata": {
    "colab": {
      "name": "task_solved.ipynb",
      "provenance": []
    },
    "kernelspec": {
      "name": "python3",
      "display_name": "Python 3"
    },
    "language_info": {
      "name": "python"
    }
  },
  "cells": [
    {
      "cell_type": "code",
      "metadata": {
        "id": "4NHvMO_zbPet"
      },
      "source": [
        "import os\n",
        "import joblib\n",
        "import numpy as np\n",
        "import pandas as pd\n",
        "from sklearn.tree import _tree\n",
        "from sklearn.metrics import roc_auc_score\n",
        "from sklearn.metrics import confusion_matrix\n",
        "from sklearn.preprocessing import LabelEncoder\n",
        "from sklearn.model_selection import train_test_split\n",
        "from sklearn.neighbors import KNeighborsClassifier\n",
        "from sklearn.ensemble import RandomForestClassifier\n",
        "from sklearn.ensemble import VotingClassifier\n",
        "from sklearn.metrics import confusion_matrix, classification_report\n",
        "from sklearn.metrics import roc_curve, auc\n",
        "import matplotlib.pyplot as plt\n",
        "import xgboost as xgb"
      ],
      "execution_count": 29,
      "outputs": []
    },
    {
      "cell_type": "code",
      "metadata": {
        "colab": {
          "base_uri": "https://localhost:8080/",
          "height": 221
        },
        "id": "NiyCV6i2bWlq",
        "outputId": "db2b2463-104e-4dcf-d9ac-c88c4d56d9c4"
      },
      "source": [
        "# Load data\n",
        "df = pd.read_csv(\"/content/sampled_data2.csv\")\n",
        "print(df.shape)\n",
        "df.head()"
      ],
      "execution_count": 30,
      "outputs": [
        {
          "output_type": "stream",
          "name": "stdout",
          "text": [
            "(25200, 8)\n"
          ]
        },
        {
          "output_type": "execute_result",
          "data": {
            "text/html": [
              "<div>\n",
              "<style scoped>\n",
              "    .dataframe tbody tr th:only-of-type {\n",
              "        vertical-align: middle;\n",
              "    }\n",
              "\n",
              "    .dataframe tbody tr th {\n",
              "        vertical-align: top;\n",
              "    }\n",
              "\n",
              "    .dataframe thead th {\n",
              "        text-align: right;\n",
              "    }\n",
              "</style>\n",
              "<table border=\"1\" class=\"dataframe\">\n",
              "  <thead>\n",
              "    <tr style=\"text-align: right;\">\n",
              "      <th></th>\n",
              "      <th>step</th>\n",
              "      <th>customer</th>\n",
              "      <th>age</th>\n",
              "      <th>gender</th>\n",
              "      <th>merchant</th>\n",
              "      <th>category</th>\n",
              "      <th>amount</th>\n",
              "      <th>fraud</th>\n",
              "    </tr>\n",
              "  </thead>\n",
              "  <tbody>\n",
              "    <tr>\n",
              "      <th>0</th>\n",
              "      <td>2021-07-16</td>\n",
              "      <td>C1326593353</td>\n",
              "      <td>36to45</td>\n",
              "      <td>Male</td>\n",
              "      <td>M1823072687</td>\n",
              "      <td>Transportation</td>\n",
              "      <td>15.78</td>\n",
              "      <td>0</td>\n",
              "    </tr>\n",
              "    <tr>\n",
              "      <th>1</th>\n",
              "      <td>2021-08-22</td>\n",
              "      <td>C483912131</td>\n",
              "      <td>26to35</td>\n",
              "      <td>Female</td>\n",
              "      <td>M1198415165</td>\n",
              "      <td>Beauty&amp;Wellness</td>\n",
              "      <td>608.32</td>\n",
              "      <td>1</td>\n",
              "    </tr>\n",
              "    <tr>\n",
              "      <th>2</th>\n",
              "      <td>2021-06-03</td>\n",
              "      <td>C1681589600</td>\n",
              "      <td>26to35</td>\n",
              "      <td>Female</td>\n",
              "      <td>M348934600</td>\n",
              "      <td>Transportation</td>\n",
              "      <td>43.76</td>\n",
              "      <td>0</td>\n",
              "    </tr>\n",
              "    <tr>\n",
              "      <th>3</th>\n",
              "      <td>2021-07-01</td>\n",
              "      <td>C1251749294</td>\n",
              "      <td>36to45</td>\n",
              "      <td>Female</td>\n",
              "      <td>M1823072687</td>\n",
              "      <td>Transportation</td>\n",
              "      <td>41.57</td>\n",
              "      <td>0</td>\n",
              "    </tr>\n",
              "    <tr>\n",
              "      <th>4</th>\n",
              "      <td>2021-03-06</td>\n",
              "      <td>C1705346216</td>\n",
              "      <td>36to45</td>\n",
              "      <td>Male</td>\n",
              "      <td>M348934600</td>\n",
              "      <td>Transportation</td>\n",
              "      <td>42.97</td>\n",
              "      <td>0</td>\n",
              "    </tr>\n",
              "  </tbody>\n",
              "</table>\n",
              "</div>"
            ],
            "text/plain": [
              "         step     customer     age  ...         category  amount fraud\n",
              "0  2021-07-16  C1326593353  36to45  ...   Transportation   15.78     0\n",
              "1  2021-08-22   C483912131  26to35  ...  Beauty&Wellness  608.32     1\n",
              "2  2021-06-03  C1681589600  26to35  ...   Transportation   43.76     0\n",
              "3  2021-07-01  C1251749294  36to45  ...   Transportation   41.57     0\n",
              "4  2021-03-06  C1705346216  36to45  ...   Transportation   42.97     0\n",
              "\n",
              "[5 rows x 8 columns]"
            ]
          },
          "metadata": {},
          "execution_count": 30
        }
      ]
    },
    {
      "cell_type": "code",
      "metadata": {
        "colab": {
          "base_uri": "https://localhost:8080/"
        },
        "id": "89bAWwhsdxqf",
        "outputId": "f9303123-0cbf-4a05-e9ca-761ed6916c32"
      },
      "source": [
        "# check the rows and columns of this dataset\n",
        "df.shape"
      ],
      "execution_count": 41,
      "outputs": [
        {
          "output_type": "execute_result",
          "data": {
            "text/plain": [
              "(25200, 8)"
            ]
          },
          "metadata": {},
          "execution_count": 41
        }
      ]
    },
    {
      "cell_type": "code",
      "metadata": {
        "colab": {
          "base_uri": "https://localhost:8080/"
        },
        "id": "DfdfBpFKd0dE",
        "outputId": "db864e09-cf43-43ca-c9b5-c7661ac3c8c0"
      },
      "source": [
        "# check datatypes to see if there are some wrongly categorized types\n",
        "df.dtypes"
      ],
      "execution_count": 42,
      "outputs": [
        {
          "output_type": "execute_result",
          "data": {
            "text/plain": [
              "step         object\n",
              "customer     object\n",
              "age          object\n",
              "gender       object\n",
              "merchant     object\n",
              "category     object\n",
              "amount      float64\n",
              "fraud         int64\n",
              "dtype: object"
            ]
          },
          "metadata": {},
          "execution_count": 42
        }
      ]
    },
    {
      "cell_type": "code",
      "metadata": {
        "colab": {
          "base_uri": "https://localhost:8080/"
        },
        "id": "M25Q8bORd3CN",
        "outputId": "22e30dbd-efc7-4ceb-c616-4d49544d2eaf"
      },
      "source": [
        "# check each columns number of unique values \n",
        "df.nunique()"
      ],
      "execution_count": 43,
      "outputs": [
        {
          "output_type": "execute_result",
          "data": {
            "text/plain": [
              "step          180\n",
              "customer     4061\n",
              "age             8\n",
              "gender          4\n",
              "merchant       48\n",
              "category       14\n",
              "amount      12958\n",
              "fraud           2\n",
              "dtype: int64"
            ]
          },
          "metadata": {},
          "execution_count": 43
        }
      ]
    },
    {
      "cell_type": "code",
      "metadata": {
        "colab": {
          "base_uri": "https://localhost:8080/",
          "height": 297
        },
        "id": "dXnIknced5sh",
        "outputId": "85466288-d475-45bd-b772-aea4160257bf"
      },
      "source": [
        "# statistic values for this data \n",
        "df.describe()"
      ],
      "execution_count": 44,
      "outputs": [
        {
          "output_type": "execute_result",
          "data": {
            "text/html": [
              "<div>\n",
              "<style scoped>\n",
              "    .dataframe tbody tr th:only-of-type {\n",
              "        vertical-align: middle;\n",
              "    }\n",
              "\n",
              "    .dataframe tbody tr th {\n",
              "        vertical-align: top;\n",
              "    }\n",
              "\n",
              "    .dataframe thead th {\n",
              "        text-align: right;\n",
              "    }\n",
              "</style>\n",
              "<table border=\"1\" class=\"dataframe\">\n",
              "  <thead>\n",
              "    <tr style=\"text-align: right;\">\n",
              "      <th></th>\n",
              "      <th>amount</th>\n",
              "      <th>fraud</th>\n",
              "    </tr>\n",
              "  </thead>\n",
              "  <tbody>\n",
              "    <tr>\n",
              "      <th>count</th>\n",
              "      <td>25200.000000</td>\n",
              "      <td>25200.000000</td>\n",
              "    </tr>\n",
              "    <tr>\n",
              "      <th>mean</th>\n",
              "      <td>174.212506</td>\n",
              "      <td>0.285714</td>\n",
              "    </tr>\n",
              "    <tr>\n",
              "      <th>std</th>\n",
              "      <td>501.116240</td>\n",
              "      <td>0.451763</td>\n",
              "    </tr>\n",
              "    <tr>\n",
              "      <th>min</th>\n",
              "      <td>0.000000</td>\n",
              "      <td>0.000000</td>\n",
              "    </tr>\n",
              "    <tr>\n",
              "      <th>25%</th>\n",
              "      <td>17.720000</td>\n",
              "      <td>0.000000</td>\n",
              "    </tr>\n",
              "    <tr>\n",
              "      <th>50%</th>\n",
              "      <td>36.340000</td>\n",
              "      <td>0.000000</td>\n",
              "    </tr>\n",
              "    <tr>\n",
              "      <th>75%</th>\n",
              "      <td>109.180000</td>\n",
              "      <td>1.000000</td>\n",
              "    </tr>\n",
              "    <tr>\n",
              "      <th>max</th>\n",
              "      <td>8329.960000</td>\n",
              "      <td>1.000000</td>\n",
              "    </tr>\n",
              "  </tbody>\n",
              "</table>\n",
              "</div>"
            ],
            "text/plain": [
              "             amount         fraud\n",
              "count  25200.000000  25200.000000\n",
              "mean     174.212506      0.285714\n",
              "std      501.116240      0.451763\n",
              "min        0.000000      0.000000\n",
              "25%       17.720000      0.000000\n",
              "50%       36.340000      0.000000\n",
              "75%      109.180000      1.000000\n",
              "max     8329.960000      1.000000"
            ]
          },
          "metadata": {},
          "execution_count": 44
        }
      ]
    },
    {
      "cell_type": "code",
      "metadata": {
        "colab": {
          "base_uri": "https://localhost:8080/"
        },
        "id": "TIRtTiKHd7_E",
        "outputId": "e07ac4ac-de61-4041-9f62-3b602c819787"
      },
      "source": [
        "df.info()"
      ],
      "execution_count": 45,
      "outputs": [
        {
          "output_type": "stream",
          "name": "stdout",
          "text": [
            "<class 'pandas.core.frame.DataFrame'>\n",
            "RangeIndex: 25200 entries, 0 to 25199\n",
            "Data columns (total 8 columns):\n",
            " #   Column    Non-Null Count  Dtype  \n",
            "---  ------    --------------  -----  \n",
            " 0   step      25200 non-null  object \n",
            " 1   customer  25200 non-null  object \n",
            " 2   age       25200 non-null  object \n",
            " 3   gender    25200 non-null  object \n",
            " 4   merchant  25200 non-null  object \n",
            " 5   category  25200 non-null  object \n",
            " 6   amount    25200 non-null  float64\n",
            " 7   fraud     25200 non-null  int64  \n",
            "dtypes: float64(1), int64(1), object(6)\n",
            "memory usage: 1.5+ MB\n"
          ]
        }
      ]
    },
    {
      "cell_type": "code",
      "metadata": {
        "colab": {
          "base_uri": "https://localhost:8080/"
        },
        "id": "JH-bydyWd-Wt",
        "outputId": "a579f4d2-2682-4da4-f0f5-97335956bfca"
      },
      "source": [
        "df.isnull().sum()"
      ],
      "execution_count": 46,
      "outputs": [
        {
          "output_type": "execute_result",
          "data": {
            "text/plain": [
              "step        0\n",
              "customer    0\n",
              "age         0\n",
              "gender      0\n",
              "merchant    0\n",
              "category    0\n",
              "amount      0\n",
              "fraud       0\n",
              "dtype: int64"
            ]
          },
          "metadata": {},
          "execution_count": 46
        }
      ]
    },
    {
      "cell_type": "code",
      "metadata": {
        "colab": {
          "base_uri": "https://localhost:8080/"
        },
        "id": "oDqC5n3WeAXD",
        "outputId": "a4273a23-8f07-4805-ec56-bc2d6b8fb1ef"
      },
      "source": [
        "# check if there are some duplicates \n",
        "df.duplicated().sum()\n"
      ],
      "execution_count": 47,
      "outputs": [
        {
          "output_type": "execute_result",
          "data": {
            "text/plain": [
              "0"
            ]
          },
          "metadata": {},
          "execution_count": 47
        }
      ]
    },
    {
      "cell_type": "code",
      "metadata": {
        "colab": {
          "base_uri": "https://localhost:8080/",
          "height": 336
        },
        "id": "D4C5Vp3veDIk",
        "outputId": "a60e5a1f-350c-44f9-9051-fc573dce32fa"
      },
      "source": [
        "# visulize each variables \n",
        "df.hist(figsize=(5,5));"
      ],
      "execution_count": 48,
      "outputs": [
        {
          "output_type": "display_data",
          "data": {
            "image/png": "[encoded data removed]",
            "text/plain": [
              "<Figure size 360x360 with 2 Axes>"
            ]
          },
          "metadata": {
            "needs_background": "light"
          }
        }
      ]
    },
    {
      "cell_type": "code",
      "metadata": {
        "colab": {
          "base_uri": "https://localhost:8080/"
        },
        "id": "Ydj_YMTGeG5n",
        "outputId": "d35c6d3e-8dd0-4af8-8189-0b40da975046"
      },
      "source": [
        "df['gender'].unique()"
      ],
      "execution_count": 49,
      "outputs": [
        {
          "output_type": "execute_result",
          "data": {
            "text/plain": [
              "array(['Male', 'Female', 'Enterprise', 'Unknown'], dtype=object)"
            ]
          },
          "metadata": {},
          "execution_count": 49
        }
      ]
    },
    {
      "cell_type": "code",
      "metadata": {
        "colab": {
          "base_uri": "https://localhost:8080/",
          "height": 312
        },
        "id": "bxBd_paReJnt",
        "outputId": "1dff5c85-3801-434c-8f5a-829e3218c21c"
      },
      "source": [
        "# plot the relation between amount and gender \n",
        "x = df['amount']\n",
        "y = df['gender'] \n",
        "\n",
        "plt.scatter(x,y)\n",
        "plt.title('Average Amount by Different genders',fontsize=12)\n",
        "plt.xlabel('Amount',fontsize=10)\n",
        "plt.ylabel('Gender',fontsize=10)"
      ],
      "execution_count": 50,
      "outputs": [
        {
          "output_type": "execute_result",
          "data": {
            "text/plain": [
              "Text(0, 0.5, 'Gender')"
            ]
          },
          "metadata": {},
          "execution_count": 50
        },
        {
          "output_type": "display_data",
          "data": {
            "image/png": "[encoded data removed]",
            "text/plain": [
              "<Figure size 432x288 with 1 Axes>"
            ]
          },
          "metadata": {
            "needs_background": "light"
          }
        }
      ]
    },
    {
      "cell_type": "code",
      "metadata": {
        "colab": {
          "base_uri": "https://localhost:8080/",
          "height": 312
        },
        "id": "scrHNZ9BeMW-",
        "outputId": "54c5130e-10b4-432d-bce4-d48bb835ac7c"
      },
      "source": [
        "# plot the relation between amount and gender \n",
        "x = df['amount']\n",
        "y = df['category'] \n",
        "\n",
        "plt.scatter(x,y)\n",
        "plt.title('Amount by Different Categories',fontsize=12)\n",
        "plt.xlabel('Amount',fontsize=10)\n",
        "plt.ylabel('Gender',fontsize=10)"
      ],
      "execution_count": 51,
      "outputs": [
        {
          "output_type": "execute_result",
          "data": {
            "text/plain": [
              "Text(0, 0.5, 'Gender')"
            ]
          },
          "metadata": {},
          "execution_count": 51
        },
        {
          "output_type": "display_data",
          "data": {
            "image/png": "[encoded data removed]",
            "text/plain": [
              "<Figure size 432x288 with 1 Axes>"
            ]
          },
          "metadata": {
            "needs_background": "light"
          }
        }
      ]
    },
    {
      "cell_type": "code",
      "metadata": {
        "colab": {
          "base_uri": "https://localhost:8080/"
        },
        "id": "HN8gcANweO3e",
        "outputId": "a0a6b18e-2769-40ea-d7d6-775e72a0a192"
      },
      "source": [
        "df['fraud'].value_counts()"
      ],
      "execution_count": 52,
      "outputs": [
        {
          "output_type": "execute_result",
          "data": {
            "text/plain": [
              "0    18000\n",
              "1     7200\n",
              "Name: fraud, dtype: int64"
            ]
          },
          "metadata": {},
          "execution_count": 52
        }
      ]
    },
    {
      "cell_type": "code",
      "metadata": {
        "colab": {
          "base_uri": "https://localhost:8080/"
        },
        "id": "2fg8cVlPeSAz",
        "outputId": "30642b2f-9d81-4c26-8f9c-afdfa232691c"
      },
      "source": [
        "print(\"Mean feature values per category\",df.groupby('category')['amount','fraud'].mean())"
      ],
      "execution_count": 53,
      "outputs": [
        {
          "output_type": "stream",
          "name": "stdout",
          "text": [
            "Mean feature values per category                        amount     fraud\n",
            "category                               \n",
            "Beauty&Wellness    161.218987  0.605907\n",
            "Contents            49.211111  0.000000\n",
            "Fashion            128.272906  0.362500\n",
            "Groceries           36.498291  0.000000\n",
            "Health             344.405963  0.796992\n",
            "Home               414.374669  0.870317\n",
            "HotelServices      402.989454  0.935154\n",
            "Leisure            300.286878  1.000000\n",
            "OtherServices      295.230478  0.908367\n",
            "Restaurants&Bars    90.103412  0.405405\n",
            "Sports&Toys        338.154819  0.971569\n",
            "Technology         331.232103  0.738318\n",
            "Transportation      29.370946  0.017582\n",
            "Travel            2649.873832  0.993127\n"
          ]
        },
        {
          "output_type": "stream",
          "name": "stderr",
          "text": [
            "/usr/local/lib/python3.7/dist-packages/ipykernel_launcher.py:1: FutureWarning: Indexing with multiple keys (implicitly converted to a tuple of keys) will be deprecated, use a list instead.\n",
            "  \"\"\"Entry point for launching an IPython kernel.\n"
          ]
        }
      ]
    },
    {
      "cell_type": "code",
      "metadata": {
        "colab": {
          "base_uri": "https://localhost:8080/",
          "height": 541
        },
        "id": "949TBpBSeV3T",
        "outputId": "b409b8c1-7861-47f4-a0ca-2b885c22a83c"
      },
      "source": [
        "#corelation matrices\n",
        "coret=df.corr()\n",
        "fig=plt.figure(figsize=(12,9))\n",
        "sns.heatmap(coret,vmax=.8,square=True)\n",
        "plt.show()"
      ],
      "execution_count": 54,
      "outputs": [
        {
          "output_type": "display_data",
          "data": {
            "image/png": "[encoded data removed]",
            "text/plain": [
              "<Figure size 864x648 with 2 Axes>"
            ]
          },
          "metadata": {
            "needs_background": "light"
          }
        }
      ]
    },
    {
      "cell_type": "code",
      "metadata": {
        "colab": {
          "base_uri": "https://localhost:8080/",
          "height": 350
        },
        "id": "jAYBLD4CejpP",
        "outputId": "5c1704f7-d283-4b85-d874-0686c5a82a3f"
      },
      "source": [
        "fig, ax = plt.subplots(1,3,figsize=(20,5))\n",
        "ax[0].hist(df[df['amount']<=1500]['amount'], bins=50)\n",
        "ax[1].hist(df[(df['fraud']==0) & (df['amount']<=1500)]['amount'], bins=50)\n",
        "ax[2].hist(df[(df['fraud']==1) & (df['amount']<=1500)]['amount'], bins=50)\n",
        "\n",
        "ax[0].set_title('Overall Amt Distribution')\n",
        "ax[1].set_title('Non Fraud Amt Distribution')\n",
        "ax[2].set_title('Fraud Amt Distribution')\n",
        "\n",
        "ax[0].set_xlabel('Transaction Amount')\n",
        "ax[0].set_ylabel('#.of Transactions')\n",
        "\n",
        "ax[1].set_xlabel('Transaction Amount')\n",
        "ax[2].set_xlabel('Transaction Amount')\n",
        "plt.show()"
      ],
      "execution_count": 56,
      "outputs": [
        {
          "output_type": "display_data",
          "data": {
            "image/png": "[encoded data removed]",
            "text/plain": [
              "<Figure size 1440x360 with 3 Axes>"
            ]
          },
          "metadata": {
            "needs_background": "light"
          }
        }
      ]
    },
    {
      "cell_type": "code",
      "metadata": {
        "colab": {
          "base_uri": "https://localhost:8080/",
          "height": 499
        },
        "id": "-CTMIrpHen75",
        "outputId": "44c2645c-c4e9-42ac-8d46-86b09ce0258f"
      },
      "source": [
        "num_cols=['amount']\n",
        "plt.figure(figsize=[10,8])\n",
        "for ind, col in enumerate(num_cols):\n",
        "    plt.subplot(1,2,ind+1)\n",
        "    df[col].plot.box()\n",
        "    plt.title(col)\n",
        "plt.show()"
      ],
      "execution_count": 57,
      "outputs": [
        {
          "output_type": "display_data",
          "data": {
            "image/png": "[encoded data removed]",
            "text/plain": [
              "<Figure size 720x576 with 1 Axes>"
            ]
          },
          "metadata": {
            "needs_background": "light"
          }
        }
      ]
    },
    {
      "cell_type": "code",
      "metadata": {
        "colab": {
          "base_uri": "https://localhost:8080/",
          "height": 173
        },
        "id": "8pvXxJRLew0Y",
        "outputId": "7e922c40-0914-4139-b87d-bfafb803ca5e"
      },
      "source": [
        "df_gender = df[['gender','customer']].groupby(['gender']).count().reset_index()\n",
        "df_gender.columns = ['Gender','gender_count']\n",
        "\n",
        "df_gender['percent'] = (df_gender['gender_count']/df_gender['gender_count'].sum())*100\n",
        "\n",
        "df_gender"
      ],
      "execution_count": 58,
      "outputs": [
        {
          "output_type": "execute_result",
          "data": {
            "text/html": [
              "<div>\n",
              "<style scoped>\n",
              "    .dataframe tbody tr th:only-of-type {\n",
              "        vertical-align: middle;\n",
              "    }\n",
              "\n",
              "    .dataframe tbody tr th {\n",
              "        vertical-align: top;\n",
              "    }\n",
              "\n",
              "    .dataframe thead th {\n",
              "        text-align: right;\n",
              "    }\n",
              "</style>\n",
              "<table border=\"1\" class=\"dataframe\">\n",
              "  <thead>\n",
              "    <tr style=\"text-align: right;\">\n",
              "      <th></th>\n",
              "      <th>Gender</th>\n",
              "      <th>gender_count</th>\n",
              "      <th>percent</th>\n",
              "    </tr>\n",
              "  </thead>\n",
              "  <tbody>\n",
              "    <tr>\n",
              "      <th>0</th>\n",
              "      <td>Enterprise</td>\n",
              "      <td>39</td>\n",
              "      <td>0.154762</td>\n",
              "    </tr>\n",
              "    <tr>\n",
              "      <th>1</th>\n",
              "      <td>Female</td>\n",
              "      <td>14596</td>\n",
              "      <td>57.920635</td>\n",
              "    </tr>\n",
              "    <tr>\n",
              "      <th>2</th>\n",
              "      <td>Male</td>\n",
              "      <td>10547</td>\n",
              "      <td>41.853175</td>\n",
              "    </tr>\n",
              "    <tr>\n",
              "      <th>3</th>\n",
              "      <td>Unknown</td>\n",
              "      <td>18</td>\n",
              "      <td>0.071429</td>\n",
              "    </tr>\n",
              "  </tbody>\n",
              "</table>\n",
              "</div>"
            ],
            "text/plain": [
              "       Gender  gender_count    percent\n",
              "0  Enterprise            39   0.154762\n",
              "1      Female         14596  57.920635\n",
              "2        Male         10547  41.853175\n",
              "3     Unknown            18   0.071429"
            ]
          },
          "metadata": {},
          "execution_count": 58
        }
      ]
    },
    {
      "cell_type": "code",
      "metadata": {
        "colab": {
          "base_uri": "https://localhost:8080/",
          "height": 265
        },
        "id": "BjKoDw1bezlZ",
        "outputId": "68c16eaa-261c-4c8e-ebf9-8304746d200b"
      },
      "source": [
        "plt.bar(df_gender['Gender'], df_gender['gender_count'], color=(0.4, 0, 0.6, 0.6),  \n",
        "        width = 0.4)\n",
        "\n",
        "plt.show()"
      ],
      "execution_count": 59,
      "outputs": [
        {
          "output_type": "display_data",
          "data": {
            "image/png": "[encoded data removed]",
            "text/plain": [
              "<Figure size 432x288 with 1 Axes>"
            ]
          },
          "metadata": {
            "needs_background": "light"
          }
        }
      ]
    },
    {
      "cell_type": "code",
      "metadata": {
        "colab": {
          "base_uri": "https://localhost:8080/",
          "height": 266
        },
        "id": "YIziCpgHe91b",
        "outputId": "375a0aaf-e44e-45a1-ddd4-11b5ec7be4c3"
      },
      "source": [
        "df_fraud_gender = df[['gender','fraud','customer']].groupby(['gender','fraud']).count().reset_index()\n",
        "df_fraud_gender.columns = ['Gender','fraud','count']\n",
        "\n",
        "df_fraud_gender = df_fraud_gender.merge(df_gender[['Gender','gender_count']],how='inner',\\\n",
        "                                  left_on='Gender',right_on='Gender')\n",
        "\n",
        "\n",
        "df_fraud_gender['percent_grp'] = (df_fraud_gender['count']/df_fraud_gender['gender_count'])*100\n",
        "\n",
        "\n",
        "df_fraud_gender"
      ],
      "execution_count": 60,
      "outputs": [
        {
          "output_type": "execute_result",
          "data": {
            "text/html": [
              "<div>\n",
              "<style scoped>\n",
              "    .dataframe tbody tr th:only-of-type {\n",
              "        vertical-align: middle;\n",
              "    }\n",
              "\n",
              "    .dataframe tbody tr th {\n",
              "        vertical-align: top;\n",
              "    }\n",
              "\n",
              "    .dataframe thead th {\n",
              "        text-align: right;\n",
              "    }\n",
              "</style>\n",
              "<table border=\"1\" class=\"dataframe\">\n",
              "  <thead>\n",
              "    <tr style=\"text-align: right;\">\n",
              "      <th></th>\n",
              "      <th>Gender</th>\n",
              "      <th>fraud</th>\n",
              "      <th>count</th>\n",
              "      <th>gender_count</th>\n",
              "      <th>percent_grp</th>\n",
              "    </tr>\n",
              "  </thead>\n",
              "  <tbody>\n",
              "    <tr>\n",
              "      <th>0</th>\n",
              "      <td>Enterprise</td>\n",
              "      <td>0</td>\n",
              "      <td>32</td>\n",
              "      <td>39</td>\n",
              "      <td>82.051282</td>\n",
              "    </tr>\n",
              "    <tr>\n",
              "      <th>1</th>\n",
              "      <td>Enterprise</td>\n",
              "      <td>1</td>\n",
              "      <td>7</td>\n",
              "      <td>39</td>\n",
              "      <td>17.948718</td>\n",
              "    </tr>\n",
              "    <tr>\n",
              "      <th>2</th>\n",
              "      <td>Female</td>\n",
              "      <td>0</td>\n",
              "      <td>9838</td>\n",
              "      <td>14596</td>\n",
              "      <td>67.402028</td>\n",
              "    </tr>\n",
              "    <tr>\n",
              "      <th>3</th>\n",
              "      <td>Female</td>\n",
              "      <td>1</td>\n",
              "      <td>4758</td>\n",
              "      <td>14596</td>\n",
              "      <td>32.597972</td>\n",
              "    </tr>\n",
              "    <tr>\n",
              "      <th>4</th>\n",
              "      <td>Male</td>\n",
              "      <td>0</td>\n",
              "      <td>8112</td>\n",
              "      <td>10547</td>\n",
              "      <td>76.912866</td>\n",
              "    </tr>\n",
              "    <tr>\n",
              "      <th>5</th>\n",
              "      <td>Male</td>\n",
              "      <td>1</td>\n",
              "      <td>2435</td>\n",
              "      <td>10547</td>\n",
              "      <td>23.087134</td>\n",
              "    </tr>\n",
              "    <tr>\n",
              "      <th>6</th>\n",
              "      <td>Unknown</td>\n",
              "      <td>0</td>\n",
              "      <td>18</td>\n",
              "      <td>18</td>\n",
              "      <td>100.000000</td>\n",
              "    </tr>\n",
              "  </tbody>\n",
              "</table>\n",
              "</div>"
            ],
            "text/plain": [
              "       Gender  fraud  count  gender_count  percent_grp\n",
              "0  Enterprise      0     32            39    82.051282\n",
              "1  Enterprise      1      7            39    17.948718\n",
              "2      Female      0   9838         14596    67.402028\n",
              "3      Female      1   4758         14596    32.597972\n",
              "4        Male      0   8112         10547    76.912866\n",
              "5        Male      1   2435         10547    23.087134\n",
              "6     Unknown      0     18            18   100.000000"
            ]
          },
          "metadata": {},
          "execution_count": 60
        }
      ]
    },
    {
      "cell_type": "code",
      "metadata": {
        "colab": {
          "base_uri": "https://localhost:8080/",
          "height": 483
        },
        "id": "0lvDBtu6fBSh",
        "outputId": "523766a5-ff37-4f8e-b6b2-d257216ad7d0"
      },
      "source": [
        "df_category = df[['category','customer']].groupby(['category']).count().reset_index()\n",
        "df_category.columns = ['Category','category_count']\n",
        "\n",
        "df_category['percent'] = (df_category['category_count']/df_category['category_count'].sum())*100\n",
        "\n",
        "df_category.sort_values(by = ['percent'], ascending=False)"
      ],
      "execution_count": 61,
      "outputs": [
        {
          "output_type": "execute_result",
          "data": {
            "text/html": [
              "<div>\n",
              "<style scoped>\n",
              "    .dataframe tbody tr th:only-of-type {\n",
              "        vertical-align: middle;\n",
              "    }\n",
              "\n",
              "    .dataframe tbody tr th {\n",
              "        vertical-align: top;\n",
              "    }\n",
              "\n",
              "    .dataframe thead th {\n",
              "        text-align: right;\n",
              "    }\n",
              "</style>\n",
              "<table border=\"1\" class=\"dataframe\">\n",
              "  <thead>\n",
              "    <tr style=\"text-align: right;\">\n",
              "      <th></th>\n",
              "      <th>Category</th>\n",
              "      <th>category_count</th>\n",
              "      <th>percent</th>\n",
              "    </tr>\n",
              "  </thead>\n",
              "  <tbody>\n",
              "    <tr>\n",
              "      <th>12</th>\n",
              "      <td>Transportation</td>\n",
              "      <td>15925</td>\n",
              "      <td>63.194444</td>\n",
              "    </tr>\n",
              "    <tr>\n",
              "      <th>4</th>\n",
              "      <td>Health</td>\n",
              "      <td>2128</td>\n",
              "      <td>8.444444</td>\n",
              "    </tr>\n",
              "    <tr>\n",
              "      <th>10</th>\n",
              "      <td>Sports&amp;Toys</td>\n",
              "      <td>2040</td>\n",
              "      <td>8.095238</td>\n",
              "    </tr>\n",
              "    <tr>\n",
              "      <th>0</th>\n",
              "      <td>Beauty&amp;Wellness</td>\n",
              "      <td>1185</td>\n",
              "      <td>4.702381</td>\n",
              "    </tr>\n",
              "    <tr>\n",
              "      <th>3</th>\n",
              "      <td>Groceries</td>\n",
              "      <td>825</td>\n",
              "      <td>3.273810</td>\n",
              "    </tr>\n",
              "    <tr>\n",
              "      <th>6</th>\n",
              "      <td>HotelServices</td>\n",
              "      <td>586</td>\n",
              "      <td>2.325397</td>\n",
              "    </tr>\n",
              "    <tr>\n",
              "      <th>13</th>\n",
              "      <td>Travel</td>\n",
              "      <td>582</td>\n",
              "      <td>2.309524</td>\n",
              "    </tr>\n",
              "    <tr>\n",
              "      <th>7</th>\n",
              "      <td>Leisure</td>\n",
              "      <td>474</td>\n",
              "      <td>1.880952</td>\n",
              "    </tr>\n",
              "    <tr>\n",
              "      <th>5</th>\n",
              "      <td>Home</td>\n",
              "      <td>347</td>\n",
              "      <td>1.376984</td>\n",
              "    </tr>\n",
              "    <tr>\n",
              "      <th>2</th>\n",
              "      <td>Fashion</td>\n",
              "      <td>320</td>\n",
              "      <td>1.269841</td>\n",
              "    </tr>\n",
              "    <tr>\n",
              "      <th>9</th>\n",
              "      <td>Restaurants&amp;Bars</td>\n",
              "      <td>296</td>\n",
              "      <td>1.174603</td>\n",
              "    </tr>\n",
              "    <tr>\n",
              "      <th>8</th>\n",
              "      <td>OtherServices</td>\n",
              "      <td>251</td>\n",
              "      <td>0.996032</td>\n",
              "    </tr>\n",
              "    <tr>\n",
              "      <th>11</th>\n",
              "      <td>Technology</td>\n",
              "      <td>214</td>\n",
              "      <td>0.849206</td>\n",
              "    </tr>\n",
              "    <tr>\n",
              "      <th>1</th>\n",
              "      <td>Contents</td>\n",
              "      <td>27</td>\n",
              "      <td>0.107143</td>\n",
              "    </tr>\n",
              "  </tbody>\n",
              "</table>\n",
              "</div>"
            ],
            "text/plain": [
              "            Category  category_count    percent\n",
              "12    Transportation           15925  63.194444\n",
              "4             Health            2128   8.444444\n",
              "10       Sports&Toys            2040   8.095238\n",
              "0    Beauty&Wellness            1185   4.702381\n",
              "3          Groceries             825   3.273810\n",
              "6      HotelServices             586   2.325397\n",
              "13            Travel             582   2.309524\n",
              "7            Leisure             474   1.880952\n",
              "5               Home             347   1.376984\n",
              "2            Fashion             320   1.269841\n",
              "9   Restaurants&Bars             296   1.174603\n",
              "8      OtherServices             251   0.996032\n",
              "11        Technology             214   0.849206\n",
              "1           Contents              27   0.107143"
            ]
          },
          "metadata": {},
          "execution_count": 61
        }
      ]
    },
    {
      "cell_type": "code",
      "metadata": {
        "colab": {
          "base_uri": "https://localhost:8080/",
          "height": 483
        },
        "id": "M1iFa8FOfDwi",
        "outputId": "3d385afb-3b94-471d-d325-13b256d3b6e4"
      },
      "source": [
        "df_category = df_category.sort_values(by = ['percent'], ascending=False).reset_index()\n",
        "df_category"
      ],
      "execution_count": 62,
      "outputs": [
        {
          "output_type": "execute_result",
          "data": {
            "text/html": [
              "<div>\n",
              "<style scoped>\n",
              "    .dataframe tbody tr th:only-of-type {\n",
              "        vertical-align: middle;\n",
              "    }\n",
              "\n",
              "    .dataframe tbody tr th {\n",
              "        vertical-align: top;\n",
              "    }\n",
              "\n",
              "    .dataframe thead th {\n",
              "        text-align: right;\n",
              "    }\n",
              "</style>\n",
              "<table border=\"1\" class=\"dataframe\">\n",
              "  <thead>\n",
              "    <tr style=\"text-align: right;\">\n",
              "      <th></th>\n",
              "      <th>index</th>\n",
              "      <th>Category</th>\n",
              "      <th>category_count</th>\n",
              "      <th>percent</th>\n",
              "    </tr>\n",
              "  </thead>\n",
              "  <tbody>\n",
              "    <tr>\n",
              "      <th>0</th>\n",
              "      <td>12</td>\n",
              "      <td>Transportation</td>\n",
              "      <td>15925</td>\n",
              "      <td>63.194444</td>\n",
              "    </tr>\n",
              "    <tr>\n",
              "      <th>1</th>\n",
              "      <td>4</td>\n",
              "      <td>Health</td>\n",
              "      <td>2128</td>\n",
              "      <td>8.444444</td>\n",
              "    </tr>\n",
              "    <tr>\n",
              "      <th>2</th>\n",
              "      <td>10</td>\n",
              "      <td>Sports&amp;Toys</td>\n",
              "      <td>2040</td>\n",
              "      <td>8.095238</td>\n",
              "    </tr>\n",
              "    <tr>\n",
              "      <th>3</th>\n",
              "      <td>0</td>\n",
              "      <td>Beauty&amp;Wellness</td>\n",
              "      <td>1185</td>\n",
              "      <td>4.702381</td>\n",
              "    </tr>\n",
              "    <tr>\n",
              "      <th>4</th>\n",
              "      <td>3</td>\n",
              "      <td>Groceries</td>\n",
              "      <td>825</td>\n",
              "      <td>3.273810</td>\n",
              "    </tr>\n",
              "    <tr>\n",
              "      <th>5</th>\n",
              "      <td>6</td>\n",
              "      <td>HotelServices</td>\n",
              "      <td>586</td>\n",
              "      <td>2.325397</td>\n",
              "    </tr>\n",
              "    <tr>\n",
              "      <th>6</th>\n",
              "      <td>13</td>\n",
              "      <td>Travel</td>\n",
              "      <td>582</td>\n",
              "      <td>2.309524</td>\n",
              "    </tr>\n",
              "    <tr>\n",
              "      <th>7</th>\n",
              "      <td>7</td>\n",
              "      <td>Leisure</td>\n",
              "      <td>474</td>\n",
              "      <td>1.880952</td>\n",
              "    </tr>\n",
              "    <tr>\n",
              "      <th>8</th>\n",
              "      <td>5</td>\n",
              "      <td>Home</td>\n",
              "      <td>347</td>\n",
              "      <td>1.376984</td>\n",
              "    </tr>\n",
              "    <tr>\n",
              "      <th>9</th>\n",
              "      <td>2</td>\n",
              "      <td>Fashion</td>\n",
              "      <td>320</td>\n",
              "      <td>1.269841</td>\n",
              "    </tr>\n",
              "    <tr>\n",
              "      <th>10</th>\n",
              "      <td>9</td>\n",
              "      <td>Restaurants&amp;Bars</td>\n",
              "      <td>296</td>\n",
              "      <td>1.174603</td>\n",
              "    </tr>\n",
              "    <tr>\n",
              "      <th>11</th>\n",
              "      <td>8</td>\n",
              "      <td>OtherServices</td>\n",
              "      <td>251</td>\n",
              "      <td>0.996032</td>\n",
              "    </tr>\n",
              "    <tr>\n",
              "      <th>12</th>\n",
              "      <td>11</td>\n",
              "      <td>Technology</td>\n",
              "      <td>214</td>\n",
              "      <td>0.849206</td>\n",
              "    </tr>\n",
              "    <tr>\n",
              "      <th>13</th>\n",
              "      <td>1</td>\n",
              "      <td>Contents</td>\n",
              "      <td>27</td>\n",
              "      <td>0.107143</td>\n",
              "    </tr>\n",
              "  </tbody>\n",
              "</table>\n",
              "</div>"
            ],
            "text/plain": [
              "    index          Category  category_count    percent\n",
              "0      12    Transportation           15925  63.194444\n",
              "1       4            Health            2128   8.444444\n",
              "2      10       Sports&Toys            2040   8.095238\n",
              "3       0   Beauty&Wellness            1185   4.702381\n",
              "4       3         Groceries             825   3.273810\n",
              "5       6     HotelServices             586   2.325397\n",
              "6      13            Travel             582   2.309524\n",
              "7       7           Leisure             474   1.880952\n",
              "8       5              Home             347   1.376984\n",
              "9       2           Fashion             320   1.269841\n",
              "10      9  Restaurants&Bars             296   1.174603\n",
              "11      8     OtherServices             251   0.996032\n",
              "12     11        Technology             214   0.849206\n",
              "13      1          Contents              27   0.107143"
            ]
          },
          "metadata": {},
          "execution_count": 62
        }
      ]
    },
    {
      "cell_type": "code",
      "metadata": {
        "colab": {
          "base_uri": "https://localhost:8080/",
          "height": 374
        },
        "id": "z4eXX-AHfGFs",
        "outputId": "b21f196d-2985-4010-a987-68d5419ff652"
      },
      "source": [
        "fig = plt.figure(figsize = (20, 6)) \n",
        "\n",
        "\n",
        "plt.bar(df_category['Category'], df_category['category_count'], color=(0.2, 0.4, 0.6, 0.6),  \n",
        "        width = 0.4)\n",
        "\n",
        "plt.show()"
      ],
      "execution_count": 63,
      "outputs": [
        {
          "output_type": "display_data",
          "data": {
            "image/png": "[encoded data removed]",
            "text/plain": [
              "<Figure size 1440x432 with 1 Axes>"
            ]
          },
          "metadata": {
            "needs_background": "light"
          }
        }
      ]
    },
    {
      "cell_type": "code",
      "metadata": {
        "id": "Ab_LMro9bb3F"
      },
      "source": [
        "entity_column = 'customer'\n",
        "target_column= 'fraud'\n",
        "datetime_columns = 'step'"
      ],
      "execution_count": 31,
      "outputs": []
    },
    {
      "cell_type": "code",
      "metadata": {
        "colab": {
          "base_uri": "https://localhost:8080/"
        },
        "id": "aNiwPnT1bdw2",
        "outputId": "effe5f4e-8a9c-490d-8bcb-394e04201392"
      },
      "source": [
        "if entity_column == '':\n",
        "    df['entity_column']= df.index.tolist()\n",
        "    entity_column = 'entity_column' \n",
        "    \n",
        "if datetime_columns == '':\n",
        "    df['datetime_columns']= df.index.tolist()    \n",
        "    datetime_columns = 'datetime_columns'\n",
        "\n",
        "numerical_columns = df._get_numeric_data().columns.values.tolist()\n",
        "print(numerical_columns)"
      ],
      "execution_count": 32,
      "outputs": [
        {
          "output_type": "stream",
          "name": "stdout",
          "text": [
            "['amount', 'fraud']\n"
          ]
        }
      ]
    },
    {
      "cell_type": "markdown",
      "metadata": {
        "id": "awW0nPXVfRy4"
      },
      "source": [
        "### Given model as sample"
      ]
    },
    {
      "cell_type": "code",
      "metadata": {
        "colab": {
          "base_uri": "https://localhost:8080/",
          "height": 333
        },
        "id": "I2_98ExfbfmM",
        "outputId": "2fc14a8b-67c3-4b08-ab2f-68ecd80dd6ec"
      },
      "source": [
        "X = df.drop(columns=[entity_column,target_column,datetime_columns])\n",
        "y = df[target_column]\n",
        "\n",
        "# Label Encoding of Categorical Columns\n",
        "categorical_names = {}\n",
        "for feature in X.columns:\n",
        "    X[feature] =  X[feature].fillna('') \n",
        "    le =  LabelEncoder()\n",
        "    le.fit(X[feature])\n",
        "    X[feature] = le.transform(X[feature])\n",
        "    categorical_names[feature] = le.classes_\n",
        "    \n",
        "\n",
        "X_train, X_test, y_train, y_test = train_test_split(X, y, test_size=0.75, random_state=42,stratify=y)\n",
        "\n",
        "rf = RandomForestClassifier(criterion='entropy', class_weight='balanced', random_state=42)\n",
        "rf.fit(X_train, y_train)\n",
        "\n",
        "predictions = rf.predict_proba(X_test)\n",
        "predictions_class = rf.predict(X_test)\n",
        "\n",
        "\n",
        "if df[target_column].nunique()> 2:\n",
        "    rules_score = roc_auc_score(y_test, predictions[:,1], multi_class = 'ovo')\n",
        "else:\n",
        "    rules_score = roc_auc_score(y_test, predictions[:,1])\n",
        "\n",
        "print(rules_score)\n",
        "\n",
        "from sklearn.metrics import confusion_matrix\n",
        "cf_matrix = confusion_matrix(y_test, predictions_class)\n",
        "print(cf_matrix)\n",
        "\n",
        "import seaborn as sns\n",
        "sns.heatmap(cf_matrix, annot=True)"
      ],
      "execution_count": 33,
      "outputs": [
        {
          "output_type": "stream",
          "name": "stdout",
          "text": [
            "0.9956406858710563\n",
            "[[13201   299]\n",
            " [  240  5160]]\n"
          ]
        },
        {
          "output_type": "execute_result",
          "data": {
            "text/plain": [
              "<matplotlib.axes._subplots.AxesSubplot at 0x7fdb57edd290>"
            ]
          },
          "metadata": {},
          "execution_count": 33
        },
        {
          "output_type": "display_data",
          "data": {
            "image/png": "[encoded data removed]",
            "text/plain": [
              "<Figure size 432x288 with 2 Axes>"
            ]
          },
          "metadata": {
            "needs_background": "light"
          }
        }
      ]
    },
    {
      "cell_type": "markdown",
      "metadata": {
        "id": "q7W8KgfPfZxM"
      },
      "source": [
        "### My prediction using different models.\n",
        "- KNN\n",
        "- Random Forest\n",
        "- XGBosting"
      ]
    },
    {
      "cell_type": "code",
      "metadata": {
        "id": "XFdTB19kcTkB"
      },
      "source": [
        "def plot_roc_auc(y_test, preds):\n",
        "    '''\n",
        "    Takes actual and predicted(probabilities) as input and plots the Receiver\n",
        "    Operating Characteristic (ROC) curve\n",
        "    '''\n",
        "    fpr, tpr, threshold = roc_curve(y_test, preds)\n",
        "    roc_auc = auc(fpr, tpr)\n",
        "    plt.title('Receiver Operating Characteristic')\n",
        "    plt.plot(fpr, tpr, 'b', label = 'AUC = %0.2f' % roc_auc)\n",
        "    plt.legend(loc = 'lower right')\n",
        "    plt.plot([0, 1], [0, 1],'r--')\n",
        "    plt.xlim([0, 1])\n",
        "    plt.ylim([0, 1])\n",
        "    plt.ylabel('True Positive Rate')\n",
        "    plt.xlabel('False Positive Rate')\n",
        "    plt.show()"
      ],
      "execution_count": 34,
      "outputs": []
    },
    {
      "cell_type": "code",
      "metadata": {
        "colab": {
          "base_uri": "https://localhost:8080/",
          "height": 516
        },
        "id": "pl-_33dtbhw2",
        "outputId": "aa85378c-2aa2-4bd2-acbd-7cb2c1e3aa67"
      },
      "source": [
        "knn = KNeighborsClassifier(n_neighbors=5,p=1)\n",
        "\n",
        "knn.fit(X_train,y_train)\n",
        "y_pred = knn.predict(X_test)\n",
        "\n",
        "\n",
        "print(\"Classification Report for K-Nearest Neighbours: \\n\", classification_report(y_test, y_pred))\n",
        "print(\"Confusion Matrix of K-Nearest Neigbours: \\n\", confusion_matrix(y_test,y_pred))\n",
        "plot_roc_auc(y_test, knn.predict_proba(X_test)[:,1])"
      ],
      "execution_count": 35,
      "outputs": [
        {
          "output_type": "stream",
          "name": "stdout",
          "text": [
            "Classification Report for K-Nearest Neighbours: \n",
            "               precision    recall  f1-score   support\n",
            "\n",
            "           0       0.94      0.97      0.96     13500\n",
            "           1       0.93      0.85      0.89      5400\n",
            "\n",
            "    accuracy                           0.94     18900\n",
            "   macro avg       0.93      0.91      0.92     18900\n",
            "weighted avg       0.94      0.94      0.94     18900\n",
            "\n",
            "Confusion Matrix of K-Nearest Neigbours: \n",
            " [[13147   353]\n",
            " [  823  4577]]\n"
          ]
        },
        {
          "output_type": "display_data",
          "data": {
            "image/png": "[encoded data removed]",
            "text/plain": [
              "<Figure size 432x288 with 1 Axes>"
            ]
          },
          "metadata": {
            "needs_background": "light"
          }
        }
      ]
    },
    {
      "cell_type": "code",
      "metadata": {
        "colab": {
          "base_uri": "https://localhost:8080/",
          "height": 618
        },
        "id": "JdF5jl6kb-Rx",
        "outputId": "c19be5f5-67f5-421d-b60b-fc532274888e"
      },
      "source": [
        "# %% Random Forest Classifier\n",
        "\n",
        "rf_clf = RandomForestClassifier(n_estimators=100,max_depth=8,random_state=42,\n",
        "                                verbose=1,class_weight=\"balanced\")\n",
        "\n",
        "rf_clf.fit(X_train,y_train)\n",
        "y_pred = rf_clf.predict(X_test)\n",
        "\n",
        "print(\"Classification Report for Random Forest Classifier: \\n\", classification_report(y_test, y_pred))\n",
        "print(\"Confusion Matrix of Random Forest Classifier: \\n\", confusion_matrix(y_test,y_pred))\n",
        "plot_roc_auc(y_test, rf_clf.predict_proba(X_test)[:,1])"
      ],
      "execution_count": 36,
      "outputs": [
        {
          "output_type": "stream",
          "name": "stderr",
          "text": [
            "[Parallel(n_jobs=1)]: Using backend SequentialBackend with 1 concurrent workers.\n",
            "[Parallel(n_jobs=1)]: Done 100 out of 100 | elapsed:    0.4s finished\n",
            "[Parallel(n_jobs=1)]: Using backend SequentialBackend with 1 concurrent workers.\n",
            "[Parallel(n_jobs=1)]: Done 100 out of 100 | elapsed:    0.2s finished\n"
          ]
        },
        {
          "output_type": "stream",
          "name": "stdout",
          "text": [
            "Classification Report for Random Forest Classifier: \n",
            "               precision    recall  f1-score   support\n",
            "\n",
            "           0       0.99      0.97      0.98     13500\n",
            "           1       0.93      0.98      0.95      5400\n",
            "\n",
            "    accuracy                           0.97     18900\n",
            "   macro avg       0.96      0.97      0.97     18900\n",
            "weighted avg       0.97      0.97      0.97     18900\n",
            "\n",
            "Confusion Matrix of Random Forest Classifier: \n",
            " [[13082   418]\n",
            " [  128  5272]]\n"
          ]
        },
        {
          "output_type": "stream",
          "name": "stderr",
          "text": [
            "[Parallel(n_jobs=1)]: Using backend SequentialBackend with 1 concurrent workers.\n",
            "[Parallel(n_jobs=1)]: Done 100 out of 100 | elapsed:    0.1s finished\n"
          ]
        },
        {
          "output_type": "display_data",
          "data": {
            "image/png": "[encoded data removed]",
            "text/plain": [
              "<Figure size 432x288 with 1 Axes>"
            ]
          },
          "metadata": {
            "needs_background": "light"
          }
        }
      ]
    },
    {
      "cell_type": "code",
      "metadata": {
        "colab": {
          "base_uri": "https://localhost:8080/",
          "height": 516
        },
        "id": "pXYByf5Icr2q",
        "outputId": "8786c4fe-b6aa-4f36-a5ce-91c588075581"
      },
      "source": [
        "XGBoost_CLF = xgb.XGBClassifier(max_depth=6, learning_rate=0.05, n_estimators=400, \n",
        "                                objective=\"binary:hinge\", booster='gbtree', \n",
        "                                n_jobs=-1, nthread=None, gamma=0, min_child_weight=1, max_delta_step=0, \n",
        "                                subsample=1, colsample_bytree=1, colsample_bylevel=1, reg_alpha=0, reg_lambda=1, \n",
        "                                scale_pos_weight=1, base_score=0.5, random_state=42, verbosity=1)\n",
        "\n",
        "XGBoost_CLF.fit(X_train,y_train)\n",
        "\n",
        "y_pred = XGBoost_CLF.predict(X_test)\n",
        "\n",
        "print(\"Classification Report for XGBoost: \\n\", classification_report(y_test, y_pred))\n",
        "print(\"Confusion Matrix of XGBoost: \\n\", confusion_matrix(y_test,y_pred))\n",
        "plot_roc_auc(y_test, XGBoost_CLF.predict_proba(X_test)[:,1])"
      ],
      "execution_count": 40,
      "outputs": [
        {
          "output_type": "stream",
          "name": "stdout",
          "text": [
            "Classification Report for XGBoost: \n",
            "               precision    recall  f1-score   support\n",
            "\n",
            "           0       0.98      0.98      0.98     13500\n",
            "           1       0.94      0.96      0.95      5400\n",
            "\n",
            "    accuracy                           0.97     18900\n",
            "   macro avg       0.96      0.97      0.97     18900\n",
            "weighted avg       0.97      0.97      0.97     18900\n",
            "\n",
            "Confusion Matrix of XGBoost: \n",
            " [[13188   312]\n",
            " [  217  5183]]\n"
          ]
        },
        {
          "output_type": "display_data",
          "data": {
            "image/png": "[encoded data removed]",
            "text/plain": [
              "<Figure size 432x288 with 1 Axes>"
            ]
          },
          "metadata": {
            "needs_background": "light"
          }
        }
      ]
    },
    {
      "cell_type": "code",
      "metadata": {
        "id": "SwAs040fdfrw"
      },
      "source": [
        ""
      ],
      "execution_count": null,
      "outputs": []
    }
  ]
}